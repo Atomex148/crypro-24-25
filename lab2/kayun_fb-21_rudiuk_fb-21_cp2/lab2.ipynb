{
 "cells": [
  {
   "cell_type": "code",
   "execution_count": 1,
   "metadata": {},
   "outputs": [],
   "source": [
    "import re\n",
    "import os\n",
    "from collections import Counter\n",
    "import pandas as pd\n",
    "import matplotlib.pyplot as plt\n"
   ]
  },
  {
   "cell_type": "code",
   "execution_count": 2,
   "metadata": {},
   "outputs": [
    {
     "name": "stdout",
     "output_type": "stream",
     "text": [
      "Очищений текст збережено в ./text1.txt\n"
     ]
    }
   ],
   "source": [
    "with open('./text.txt', 'r', encoding='utf-8') as file:\n",
    "    text = file.read()\n",
    "\n",
    "text = text.replace(\"\\n\", \"\").replace(\"ъ\", \"ь\").lower() \n",
    "text = text.replace(\"\\n\", \"\").replace(\"ё\", \"е\").lower()   \n",
    "text = re.sub(r'[^\\w\\s]', '', text)  \n",
    "text = re.sub(r'\\d+', '', text)  \n",
    "text = re.sub(r'\\s+', '', text).strip()  \n",
    "\n",
    "with open('./text1.txt', 'w', encoding='utf-8') as file:\n",
    "    file.write(text)\n",
    "\n",
    "print(\"Очищений текст збережено в ./text1.txt\")\n"
   ]
  },
  {
   "cell_type": "code",
   "execution_count": 3,
   "metadata": {},
   "outputs": [],
   "source": [
    "# шифрування шифром Віженера\n",
    "def vigenere_encr(text, key):\n",
    "    encrypted_text = []\n",
    "    key_len = len(key)\n",
    "    for i, char in enumerate(text):\n",
    "        if char.isalpha():\n",
    "            shift = ord(key[i % key_len]) - ord('а')  \n",
    "            encrypted_char = chr((ord(char) - ord('а') + shift) % 32 + ord('а'))\n",
    "            encrypted_text.append(encrypted_char)\n",
    "        else:\n",
    "            encrypted_text.append(char)\n",
    "    return ''.join(encrypted_text)\n"
   ]
  },
  {
   "cell_type": "code",
   "execution_count": 4,
   "metadata": {},
   "outputs": [],
   "source": [
    "# Функція підрахунку індексу відповідності\n",
    "def index_of_coincidence(text):\n",
    "    n = len(text)\n",
    "    frequencies = Counter(text)\n",
    "    numerator = sum(f * (f - 1) for f in frequencies.values())\n",
    "    return numerator / (n * (n - 1)) if n > 1 else 0\n"
   ]
  },
  {
   "cell_type": "code",
   "execution_count": 5,
   "metadata": {},
   "outputs": [
    {
     "name": "stdout",
     "output_type": "stream",
     "text": [
      "Зашифрований текст з ключем довжини 2 збережено у файл cypher/2.txt\n",
      "Зашифрований текст з ключем довжини 3 збережено у файл cypher/3.txt\n",
      "Зашифрований текст з ключем довжини 4 збережено у файл cypher/4.txt\n",
      "Зашифрований текст з ключем довжини 5 збережено у файл cypher/5.txt\n",
      "Зашифрований текст з ключем довжини 10 збережено у файл cypher/10.txt\n",
      "Зашифрований текст з ключем довжини 11 збережено у файл cypher/11.txt\n",
      "Зашифрований текст з ключем довжини 12 збережено у файл cypher/12.txt\n",
      "Зашифрований текст з ключем довжини 13 збережено у файл cypher/13.txt\n",
      "Зашифрований текст з ключем довжини 14 збережено у файл cypher/14.txt\n",
      "Зашифрований текст з ключем довжини 15 збережено у файл cypher/15.txt\n",
      "Зашифрований текст з ключем довжини 16 збережено у файл cypher/16.txt\n",
      "Зашифрований текст з ключем довжини 17 збережено у файл cypher/17.txt\n",
      "Зашифрований текст з ключем довжини 18 збережено у файл cypher/18.txt\n",
      "Зашифрований текст з ключем довжини 19 збережено у файл cypher/19.txt\n",
      "Зашифрований текст з ключем довжини 20 збережено у файл cypher/20.txt\n"
     ]
    }
   ],
   "source": [
    "with open('./text1.txt', 'r', encoding='utf-8') as file:\n",
    "    open_text = file.read()\n",
    "\n",
    "# Ключі для шифрування\n",
    "keys = [\"но\", \"сис\", \"меры\", \"кибер\", \"компьютери\", \"системыниже\", \"планыаварийн\",\n",
    "        \"нежелательные\", \"бизнесопераций\", \"требованиямонип\", \"доступаипредотвр\",\n",
    "        \"сетевойактивность\", \"предотвратитьвозмо\", \"специальныеинструме\", \"потенциальныхцифровы\"]\n",
    "\n",
    "if not os.path.exists('cypher'):\n",
    "    os.makedirs('cypher')\n",
    "\n",
    "for key in keys:\n",
    "    encrypted_text = vigenere_encr(open_text, key)\n",
    "    key_length = len(key)\n",
    "    file_name = f'cypher/{key_length}.txt'\n",
    "    \n",
    "    with open(file_name, 'w', encoding='utf-8') as f:\n",
    "        f.write(encrypted_text)\n",
    "    \n",
    "    print(f\"Зашифрований текст з ключем довжини {key_length} збережено у файл {file_name}\")\n"
   ]
  },
  {
   "cell_type": "code",
   "execution_count": 6,
   "metadata": {},
   "outputs": [
    {
     "name": "stdout",
     "output_type": "stream",
     "text": [
      "Відкритий текст І = 0.058797345617896624\n",
      "Ключ довжини 2 І = 0.04753504128038752\n",
      "Ключ довжини 3 І = 0.04627167322625252\n",
      "Ключ довжини 4 І = 0.034181306407665306\n",
      "Ключ довжини 5 І = 0.035218839239688084\n",
      "Ключ довжини 10 І = 0.03293266673758111\n",
      "Ключ довжини 11 І = 0.03465752415864106\n",
      "Ключ довжини 12 І = 0.03479662556356525\n",
      "Ключ довжини 13 І = 0.03653130190732574\n",
      "Ключ довжини 14 І = 0.03401929418310654\n",
      "Ключ довжини 15 І = 0.03360035348121722\n",
      "Ключ довжини 16 І = 0.03316995736951061\n",
      "Ключ довжини 17 І = 0.03343179530819144\n",
      "Ключ довжини 18 І = 0.03309958842349014\n",
      "Ключ довжини 19 І = 0.03330742228731804\n",
      "Ключ довжини 20 І = 0.03228789081357957\n"
     ]
    }
   ],
   "source": [
    "indices = []\n",
    "ic_open_text = index_of_coincidence(open_text)\n",
    "print(f\"Відкритий текст І = {ic_open_text}\") \n",
    "# індекси відповідності для кожного зашифрованого тексту\n",
    "for key in keys:\n",
    "    key_length = len(key)\n",
    "    file_name = f'cypher/{key_length}.txt'\n",
    "    \n",
    "    with open(file_name, 'r', encoding='utf-8') as f:\n",
    "        encrypted_text = f.read()\n",
    "    \n",
    "    ic = index_of_coincidence(encrypted_text)\n",
    "    indices.append((key_length, ic))\n",
    "    print(f\"Ключ довжини {key_length} І = {ic}\")\n",
    "\n"
   ]
  },
  {
   "cell_type": "code",
   "execution_count": null,
   "metadata": {},
   "outputs": [],
   "source": [
    "data = {\n",
    "    'Довжина ключа': [2, 3, 4, 5, 10, 11, 12, 13, 14, 15, 16, 17, 18, 19, 20],\n",
    "    'Індекс відповідності': [ic for _, ic in indices]\n",
    "}\n",
    "\n",
    "data['Довжина ключа'].insert(0, 'Відкритий текст')\n",
    "data['Індекс відповідності'].insert(0, ic_open_text)\n",
    "\n",
    "df = pd.DataFrame(data)\n",
    "print(df)\n"
   ]
  },
  {
   "cell_type": "code",
   "execution_count": 7,
   "metadata": {},
   "outputs": [
    {
     "ename": "NameError",
     "evalue": "name 'df' is not defined",
     "output_type": "error",
     "traceback": [
      "\u001b[1;31m---------------------------------------------------------------------------\u001b[0m",
      "\u001b[1;31mNameError\u001b[0m                                 Traceback (most recent call last)",
      "Cell \u001b[1;32mIn[7], line 3\u001b[0m\n\u001b[0;32m      1\u001b[0m plt\u001b[38;5;241m.\u001b[39mfigure(figsize\u001b[38;5;241m=\u001b[39m(\u001b[38;5;241m10\u001b[39m, \u001b[38;5;241m6\u001b[39m))\n\u001b[0;32m      2\u001b[0m bar_width \u001b[38;5;241m=\u001b[39m \u001b[38;5;241m0.4\u001b[39m  \n\u001b[1;32m----> 3\u001b[0m x \u001b[38;5;241m=\u001b[39m \u001b[38;5;28mrange\u001b[39m(\u001b[38;5;28mlen\u001b[39m(\u001b[43mdf\u001b[49m[\u001b[38;5;124m'\u001b[39m\u001b[38;5;124mДовжина ключа\u001b[39m\u001b[38;5;124m'\u001b[39m])) \n\u001b[0;32m      4\u001b[0m plt\u001b[38;5;241m.\u001b[39mbar(x, df[\u001b[38;5;124m'\u001b[39m\u001b[38;5;124mІндекс відповідності\u001b[39m\u001b[38;5;124m'\u001b[39m], color\u001b[38;5;241m=\u001b[39m\u001b[38;5;124m'\u001b[39m\u001b[38;5;124mskyblue\u001b[39m\u001b[38;5;124m'\u001b[39m, width\u001b[38;5;241m=\u001b[39mbar_width)\n\u001b[0;32m      5\u001b[0m plt\u001b[38;5;241m.\u001b[39mtitle(\u001b[38;5;124m'\u001b[39m\u001b[38;5;124mІндекси відповідності\u001b[39m\u001b[38;5;124m'\u001b[39m, fontsize\u001b[38;5;241m=\u001b[39m\u001b[38;5;241m14\u001b[39m)\n",
      "\u001b[1;31mNameError\u001b[0m: name 'df' is not defined"
     ]
    },
    {
     "data": {
      "text/plain": [
       "<Figure size 1000x600 with 0 Axes>"
      ]
     },
     "metadata": {},
     "output_type": "display_data"
    }
   ],
   "source": [
    "plt.figure(figsize=(10, 6))\n",
    "bar_width = 0.4  \n",
    "x = range(len(df['Довжина ключа'])) \n",
    "plt.bar(x, df['Індекс відповідності'], color='skyblue', width=bar_width)\n",
    "plt.title('Індекси відповідності', fontsize=14)\n",
    "plt.xlabel('Довжина ключа', fontsize=12)\n",
    "plt.ylabel('Індекс відповідності', fontsize=12)\n",
    "plt.grid(axis='y', linestyle='--', alpha=0.7)\n",
    "plt.xticks(ticks=x, labels=df['Довжина ключа'], rotation=45)\n",
    "plt.tight_layout()  \n",
    "plt.show()"
   ]
  },
  {
   "cell_type": "markdown",
   "metadata": {},
   "source": [
    "Розшифрування "
   ]
  },
  {
   "cell_type": "code",
   "execution_count": null,
   "metadata": {},
   "outputs": [
    {
     "name": "stdout",
     "output_type": "stream",
     "text": [
      "Довжина ключа і значення індексу відповідності та статистики D_r:\n",
      "r=2: I=0.032634691451365244, D_r=261\n",
      "r=3: I=0.03263043936795209, D_r=241\n",
      "r=4: I=0.032628710852258096, D_r=260\n",
      "r=5: I=0.032630155022847517, D_r=249\n",
      "r=6: I=0.03262981085000887, D_r=240\n",
      "r=7: I=0.03262980469808428, D_r=230\n",
      "r=8: I=0.032627761842818646, D_r=256\n",
      "r=9: I=0.032627814868489584, D_r=253\n",
      "r=10: I=0.03263021221082062, D_r=248\n",
      "r=11: I=0.03263023299063423, D_r=263\n",
      "r=12: I=0.032632660985262484, D_r=264\n",
      "r=13: I=0.03263088920188327, D_r=456\n",
      "r=14: I=0.03262926997896802, D_r=249\n",
      "r=15: I=0.03262931740997654, D_r=267\n",
      "r=16: I=0.0326250680301227, D_r=256\n",
      "r=17: I=0.03262761636808816, D_r=270\n",
      "r=18: I=0.03262769131709155, D_r=236\n",
      "r=19: I=0.032626837445656295, D_r=252\n",
      "r=20: I=0.03262511593258679, D_r=238\n",
      "r=21: I=0.032627724668113596, D_r=278\n",
      "r=22: I=0.03262596954799322, D_r=242\n",
      "r=23: I=0.03262668927050907, D_r=235\n",
      "r=24: I=0.032626572237795415, D_r=271\n",
      "r=25: I=0.032626670957666234, D_r=238\n",
      "r=26: I=0.032627977021739744, D_r=416\n",
      "r=27: I=0.032628941835987045, D_r=235\n",
      "r=28: I=0.032629720133532845, D_r=278\n",
      "r=29: I=0.03263071484451932, D_r=254\n",
      "r=30: I=0.03263152296060735, D_r=237\n"
     ]
    }
   ],
   "source": [
    "\n",
    "def read_text(file_path):\n",
    "    \n",
    "    with open(file_path, 'r', encoding='utf-8') as file:\n",
    "        text = file.read().strip()\n",
    "    text = re.sub(r'[^а-яА-Я]', '', text)\n",
    "    return text\n",
    "\n",
    "def index_of_coincidence(text):\n",
    "    n = len(text)\n",
    "    frequencies = Counter(text)\n",
    "    return sum((count * (count - 1) for count in frequencies.values())) / (n * (n - 1))\n",
    "\n",
    "def dr_statistics(ciphertext, r):\n",
    "    D_r = 0\n",
    "    n = len(ciphertext)\n",
    "    for i in range(n - r):\n",
    "        if ciphertext[i] == ciphertext[i + r]:\n",
    "            D_r += 1\n",
    "    return D_r\n",
    "\n",
    "ciphertext = read_text('v4.txt')\n",
    "\n",
    "coincidence_indices = []\n",
    "dr_values = []  \n",
    "\n",
    "for r in range(2, 31):\n",
    "    shifted_text = ciphertext[r:]\n",
    "    I = index_of_coincidence(shifted_text)\n",
    "    coincidence_indices.append((r, I))\n",
    "    D_r = dr_statistics(ciphertext, r)\n",
    "    dr_values.append((r, D_r))\n",
    "\n",
    "print(\"Довжина ключа і значення індексу відповідності та статистики D_r:\")\n",
    "for (r, I), (_, D_r) in zip(coincidence_indices, dr_values):\n",
    "    print(f\"r={r}: I={I}, D_r={D_r}\")\n"
   ]
  },
  {
   "cell_type": "code",
   "execution_count": null,
   "metadata": {},
   "outputs": [
    {
     "data": {
      "image/png": "[encoded data removed]",
      "text/plain": [
       "<Figure size 1000x600 with 1 Axes>"
      ]
     },
     "metadata": {},
     "output_type": "display_data"
    }
   ],
   "source": [
    "import numpy as np\n",
    "import matplotlib.pyplot as plt\n",
    "\n",
    "# статистика співпадінь D_r\n",
    "def calculate_match_statistic(cipher_text, max_r):\n",
    "    n = len(cipher_text)\n",
    "    D_values = []\n",
    "\n",
    "    for r in range(1, max_r + 1):\n",
    "        count = 0\n",
    "        for i in range(n - r):\n",
    "            if cipher_text[i] == cipher_text[i + r]:\n",
    "                count += 1\n",
    "        D_values.append(count)\n",
    "\n",
    "    return D_values\n",
    "\n",
    "def plot_statistics(D_values):\n",
    "    r_values = range(1, len(D_values) + 1)\n",
    "    \n",
    "    plt.figure(figsize=(10, 6))\n",
    "    plt.bar(r_values, D_values, color='skyblue')\n",
    "    plt.title('Статистика співпадінь D_r')\n",
    "    plt.xlabel('Довжина ключа (r)')\n",
    "    plt.ylabel('Кількість співпадінь')\n",
    "    plt.xticks(r_values)\n",
    "    plt.grid(axis='y')\n",
    "\n",
    "    plt.show()\n",
    "\n",
    "cipher_text = read_text('v4.txt')\n",
    "max_r = 30\n",
    "D_values = calculate_match_statistic(cipher_text, max_r)\n",
    "plot_statistics(D_values)\n"
   ]
  },
  {
   "cell_type": "code",
   "execution_count": null,
   "metadata": {},
   "outputs": [
    {
     "name": "stdout",
     "output_type": "stream",
     "text": [
      "Блок: фсчнллггиюгдюууггнфмсулихвуфгшвхинпскожелнееюсммдоюувифимхгиуялгхугршяохъеьсиллясицгсдиуоппиифргспфьюцнегфмлялфсснонрцулфзгртвцоухрсумефунзтуссугжесснгселигусзлцхфлсихксисфллхулрвспехркхиуулдегкржхяиглнашипъоснлнщгслввкмуцоыклцфгсфесрсвлуиевенсседрнцроежлвммнфипвссрзхсисхдлеромбциипрфеъжпгтзронжсспгтидмещгксхевюсфрхугуэсгсгнсисфгифрснферсхсвдхилсфххгилсенснышухзюсишиуююлзгососълюсхкъиесоелйеыффгилсиурнгодсргъяропсуиеисхгосыикпцкижмвсвптихиссыхоннвьлххгипигсрльхуруолржрзжъфяевюагяпрдхгвншюоххвлолсвггппжсиыггусфглнцггфгхесмлссхрзнижгтлхрфнугхсужолтиицсфпслкссшистзуепзитоляууугюцгшунеслгхгвлиспгжссенерпгвыоиослпихихс, Найпоширеніша буква: с, Зсув: 3, Ключ: г\n",
      "Блок: вышгзздъащтйзюржпшрэфярафвбыаютхэрхбмэюфчггюхыясахышсэмыыэыышхтыарщлыбхлшшшфябптъаъъшаягмабчфмрьухпшзиюрчефжятвсзюпррвшъъэпшшфзоюмюьюяюъюяжырушрвшрпфшчьшжтпхьюяцарэфваютяупыяахтлэбхыююэрутгвпаыагэхъышъювяьгэъбрпюртытфъэброрхювыиюэвпбхыбыхаияююэарюмгтбрлшязнэгвагювтээльыхюшчшррвсятвххмрхыыэхююмарсъшагвгияряээхюяхъшэрюсъхбфььрицтявъэхцспбгхюфаэшвбщвбэьчыулштюхэшрахсэыыюехэапхбмбхфеблрхахупышхфъэьъэчвшхюртрыфгбшьрорыюыюхсюцлъхбрлоэаюатвряаяаявбшюшрпйшпгяфютаотюъшллшюмъшыэюрхъррцявъфрюшюпшюуевмхьсочеэгзтбшъярцфрйвыэшбвяхтррфэфчэъътрэюъычшшмшхтэьрюмчшыьсъвэьзущашзэюхяюхээарычюшгчъыърюгютфбачэабсэьюцщрюююбаъртамбарымыю, Найпоширеніша буква: ю, Зсув: 16, Ключ: р\n",
      "Блок: оочщуууарбйцааяцюрроцующуйшуъюйэытяьшущьэяжхбкьйьркрщырььйццэъьцухъгбьыщрггкуээяяфььэоуыхоьощенуьчцэушэаьюооььюыыцъхацрьоуядяьцтушрьыуеуяуоушрхацущугэыоъоофъйхьыощьуьуроььсцьуяочуояцъяоюьопоаьоцщьщоухьеьюуацоанпхбьмьуькщхютщыуьцяъцхщааоьрубюхщуьаашфшонюэюуаофоофацхьнщыксщарюыюцццьофъцюъоуцыясхьрьххюяцешцтюоующужюацарйьъутыьышцоюкаотуйуущъчьуьецццюнььыцюбуярыьомбшщйьучъяцуяпцяьяььцуьагюьтуятьоььюпььхжуъшыоьмаайщпацрущызыужопщарэогюоььгццоуюншвыееябрцанурйуаоьогжршрбцунйъъсоыаоюццбмчюаяхрбшухщйбящщотцьащоьюцофыоцбхэкюъьсщцьуърбобщыцяоырныгтжйшрпыьюкыйоюйбущяуэыущюьхщйуцыцьчящоцянщъэтбокоооькьйщюушщаяъъжьщйыыйощкыцх, Найпоширеніша буква: ь, Зсув: 14, Ключ: о\n",
      "Блок: ьгфиээрфмцощъфылмъъяюьбъохъщфърчзмлгчгъщьюмипыччдзщъфъюодсбэчыыыощмытющимьцлюсъсцфхчзюьзъээшлюггшъэмпмзмгмоляъъсъшссььмччхимичюъямэеягцъюьююъвмясхфроъздмучслхьнъюыхчшчъщщъььршълщршюмръцшэчфшьшмюмьлыщоююгсщфццфщзмыпнэодрзфмщсъчэьюсомъъмъцъокъииюпъммфмъплясьъуньуфшупщчэсщъисфъфъэшэоррщящьощсэюъъшъшмммюдсъасъкяыиэямфцссчрфномрщъюръязосющэюъяшхрэсгчщъцхтмгмйюцпщэрефьяцхщцъюбшимщюнюпьщюэщфэцзщъъчщхюмсэчсфрфъщцхцмсэоъидмыщмсфхфдззсммкомуущрьфюмффъьмссшкчщтюыснхфщтшцммъсэъшрсзфъусичъбщшэщъъчгннъчщиэрисмофоюофуумпчсъьэюмснсщюмъчлчъърцэфзэъщммнмчмфшюксмнъщъцтмшгплоъьънссцшцшэдюьооцзочлэммсичкщтчыцшхслсщьфъшысфюмэззсфъщъьм, Найпоширеніша буква: ъ, Зсув: 12, Ключ: м\n",
      "Блок: зыннеелеъжыцнэлзьмжтаэгэъюзгиуыцдмсгаимйгйргйййыаэйдеэйаыээзцнайййэйэицежалвжлеялэжанчалэмнаъйноымкнйынъыкыояьгдзъииайнаыжзззбчюбеегэыаномчыиаилдюйэыкаеъыыжегглмгазчмйюгъиыйиазвыоййийййглгжйыылаггккгцййомнжвфегжьйлгжеаыужьйезъчгаяыжэфэнйзеюккезймаэьтмлъмяадыоыйеагжызнэоэежяэазюочлаойнцыигйгыжэинияюегчижгкъймаииннрйжяйймаанаыжгимзгыжоажымиъйенмачныимаяиижлылйнягяокыэиймльжилцэачайцлгадлйэимюгыклъжгфжлимжцыяяэжжюдйчныокдьюнжаужненмвкяцыцзгюмиийкммйьйыачнъагвиггйдщэизяьцунирынвчэмаынызбщаылжаыижчкмяаэыэаьыоулгидычтшжйяыгкгзэыбвымзжакьгизытаиркйлжълэйнйауннйяажызадэыогккжиоыкиьящьккулъйфыюмйэыяэжжицэлййлийыуааювконыи, Найпоширеніша буква: ы, Зсув: 13, Ключ: н\n",
      "Блок: тъъпшшкшыкцмшмттшжжчхшцочшэимтхумпкхщшкыомйяоныочкултшъфохкпцкъмрашосйяшкцекппкхэкпчкщошкхшовйппчьшжзчкфъчуышгьчщмйчьцшбыэпткчщппыъцэьчбщьъишчйштъбкьшыкыоэпкмьшьмъшчнушйьылцйчъкфцпоьмлцчэмтбсвлхчъшпцыъмоьсыкпэйшхъпйпкхщткшэщхщсхфхътчтвцвшэшэкшкухвщепбкпьэсрооубччъйнпшыьпшжэктккицпчфнъуышпчъьткшчпткфвстпуьмбтхкйфчымпъшмьчъехыжишэпфъибътфжкмьтйфычэоптьпктжкхэужэпшнхчшеуькоикотшчбмвыпчлпппкеппчотпщечппшшкжяяппхжпхцблжькъбэъййцкжжшейошпяшшбттэпкмтьььклцътшчнмшемъхфгычтчъкэепшхъкбпьчьшцкэчъъкжщбшйошкшьхппчшхлпкччочэпькхеоъшхтщмччлцешсэыътщспнтыпцепрктчпньчшшчпьэяыытжсьцъпшшфьъэчхлешшфпбвпмъйхщчхштшехкшъыьчъфпщбхэъиксп, Найпоширеніша буква: ш, Зсув: 10, Ключ: к\n",
      "Блок: ыьоаччърьтэццоываъгйкчоуьтщсрчяпаыыоясхцьхускюйьымаьэхфоцоаыегууоршяюъфряащрчтеуэнфннюсъщонщобыууошаабъььбгапукоющфьцоышкшфэшоьръойорцоуоыбзъаачсбубцщаыобххшууяцыуюйюъцаыьцощооюьобщцуздушухупшокобааоььььбонаырцубягохнуьжбапоцуюцщуппьчцушяяюящъщъукюаяопъьээуэкяоуньтыжщцктсянщэжщуьъуььоряуоььшяыъоэвтаконецшцутцхщцьрычьтььоклкьытпьыоупцопцосъщъъьшьцояанфндврйтыхпьрцуотуэьфцзюйхшыайцуэоьщтсмуыруыоацчрэчшяъдэажюнцыбьуйъцшоотояыбаыьяышояюьреццюаящоюррюыььущрыойшужбщоцоьюцьтаъяюэошатуокмьжуоыгхдоцтъюяачшуааыхьоыыойбцяюьэктдутцъуоьцйуяшбсаьнццщуннябшыцфяьшаяйщауаюфэршруоццожяэбкьщбцьбщшцшуобоорсщуцщбуукъуьщцоьачюбоецршсч, Найпоширеніша буква: о, Зсув: 0, Ключ: а\n",
      "Блок: уждфковщшгкмооммврклоуедусзрзубзррзукрбдтдчпбвстэытнрозпджубкксфнзтээквтютюзупкмрнвчуэнввгпбедкмдпртръкгднвтпоуфзбззлъзвжкжхргдэконезпвфнбпкзткжзгпуфйрзгожрпунъжржжобпувргфъвчуипажбмткххвтппрвнпсббкнмейдсоптбэсыжфзпвймъюухзчштвузпвзсолъвнфнфюзррпгрюфукхлтвжржбтрйдвхргнуррмжврмрайбенсфкхпуздкфпомвкрхкддвфвнпщдпаксрвящпнзгажпурвэжбупрфйэрпрзккклртшсфхзпмврэхэвзэгмхпнрсрдпфкивжвррдзтзорркжфгмвмзнюврфрврмвзрхюзнспгиоурщрдуюпохяюрщфврпфищрздухуоюфврраафавкмэасрдкмзооозбодтпкхррпнрзпхщстмфуэвжвффзкхнбузпчпэвуопкозобсздзъхвйзрртозмнтнтгвдддттрпчтуивэдвмщткбоюрнюввтзтэднфгдкютдущвнплдйтпктжуопэрзжпрйнйбсузвжберърфйкдпкву, Найпоширеніша буква: р, Зсув: 2, Ключ: в\n",
      "Блок: пкткфеиенахекфушеиххечпдчучхйкймхццбйржэукекптууонебфштенкпрхцеунчшъзнхезккхзкзеокзфбиеэцрндтркухуоеикфаеерукудуйрццйптсумшъчакнтуенцерручнойкднтубфбэхнуьшскббккфруемуфпжнбпцццекьечзнрззстебоукухитчнуутрткекьйукэзцшоаншднсйтукьбттрцукцпседунырзоыкьззччфскхукусучеесрпцедсххкммкфчефшкунййкулехеукуххьхтхзххзебнеежткцзччубцесеаксжрепчтхкузфкрцьцпноенчееюеешзшззфсфрертаоеййнккемкпклечкюнцзпкмкнрехацржучзкхйзрсззсуабкшщюкснчнншрчтфкбтоуеекртахгчутбоезттшзиэукчхттсниннушкйнкнпрэйцнмтеьчуюемуъчкснцрциктннтзектбраыксушкмххкючшотцзфцнжчкуаркеууузйукнкхтугрбазчнпрбймцнчецзцккйрскудкзцтшнршуткнчфнэрьштцпнефнъсткцузптберрктйу, Найпоширеніша буква: к, Зсув: 28, Ключ: ь\n",
      "Блок: дймтфзтхдцаыймффитйчзйхцтеттйзйждцухфйпмксплдмпзунжьйэмещсмммчфыхсзддхтхжужсмндоужьмфдлоайймдйржджсжтжппсицмнкурртцйймамудхптппочжуммжтмцфухмцпуйузйпмтхцмежлрснрттнфсзтыяфрчамржыцытдцдтдмййссецштфчсснцмдяцоумтоидтфцхопхмпямчзиозйтйуиьгдмезжпяодртлйтйпйтйичфиейжфзсйхмцщедйядджудфктрсрпжмтийпймзхсддсчййятдтхужхомйфутттжсцптоничятптфяэплйфчтцдууцрлймсъйсоижздятптдрвяхффюдопчжижтхмрдечэцятудфхйодйщятфйълдттйдуайьнпьзтсхчцтлъэдтйффлмрсфцрсаодцжзтцсстддхтмйцумядймелутйыцжсхътгйчпсдсщмтимчйычмпмфтмомийижттругрмйяхтнжщхййымапхупямплпасжгдспежжйдциржцдуцввпхдттолсждхйнтдгплддсихордгяпидцрчлгдмъйтдфяятъхффтисхцчятлфжмйьйдо, Найпоширеніша буква: т, Зсув: 4, Ключ: д\n",
      "Блок: ыютмьдюоздбоомлнбжаждльшабнайкйбыьбжподбйбьажукьмнкьмьббудбнжбсжоьуъзоежчблпнззимкбньъььийигауйьддкжзбпжйьпзбйклбнжаййжнбэокмьдкокмйнбиюодбыйпдзьммздбйльюмойьчйкофнэккзозьбыййьзйкйммбыонкбобдйлчуьзкйякжлейкбемььыюбжжьдогбнззмбдззкомькпмддддьйдоьекигьдзафдакпмйьчдйаыгкфбжязжжкбйпьабыыклзрбжклнкобниклгинаюзбзьюкокбднкзбккжбджбкйэвйъикшзаклюббкмбьюемадйбькчйаэюдажбабгькбздшлчбьбзолжмхбмеомобьвлннкюакибблягейзыйзнбшкмпжишончбзяккбйсбььшщбюогйдпмььбоаибзмнкьгяогюпьмондюдккбзояидьячозвкювздянбпкгобийоыклнккойэнлобибккиаббзшомпбмдйбдйьэнйьзбьусзждндндюудшбжялкыббюкййжиишкынбзлкыилбчбнкпюяююмчиюсббкбклдпабдыьжездььижйном, Найпоширеніша буква: б, Зсув: 19, Ключ: у\n",
      "Блок: дыасцфыиищхъсъъъыящъэсщэсчгэфрсюродоэмцэзчэъощэуълхцсчшчмлюимюфмолсемъшьэеъюмямсфхсиуешыъщомсссьрюыяячюмъоьмэъязюиъчимфыьфьпъоююычфсюьоъфщьэъююъчсямэозьтълъмыхмщьмммхьиъъсщымююсфйъпфчщонюъсчцкььинмхфяччюйъщюбмлчъмнмъютьъщчцъмььмфыъсчцымцоощэсбъчьпюиоолщъчщпюылюоыъчымчсумьэюччьмэюэщшчюьмъьъщсыосвюншьмлдсщинъщъшурщюыщфрълсххмхнссфэчщшюфьцмяэюэмъпфнямфсылпэъчьсяшмщсэмухшзыщфсэююфсффффцъцъъьушфчыччфъхщщчъсрфмъшлсфэрршкящщсюящяънррмэьэхэюоъсямсюмццщюзъьщяюььрфммсрщфоъюстоощчщъмьщъсзмрэчссюъющрощишрфыечъюфюфсъюъсхъщшьляшосюоъгямнфрщъозиъшмрчсффъусщцэмфолйфьъшьолычмффыщщнсипъъющыъцножшныъзфмъсзфщюнуэфрщэшцююьузюэшъмъяиз, Найпоширеніша буква: ъ, Зсув: 12, Ключ: м\n",
      "Блок: киатткрпнровпврвтровтнповоитенкреанооиояхиквдооакпкзмичосзрхнлвмукрисмоуьувылксшдрнмоииоиысмянзнаьотбиорващслудтедеопгмуеваоереояьптоеопсаедрмеморбптрранжцвкотрсядмлсазнктярсернктеоаьесыотлюохекиисзкщьоялсеавсневлржнаиебниообназиуткмбозувауксмдоаоамаишокаеоаоньангеосбвмкаяиииелцочяиооояржмейоуаирауомоееихяхееалноаипдеблнксппщпзвпиамалоилсвсокритыерхбртеомаордеунйттдтнсрораьеоулресеоворгакатюиимдкпетечвеоптнушгаунитюеакрснчняунювыесяоаслоехдсчоаамрдуюьыоввкпнуякекенезаееиятоидвтсуиочнслыниааснемрагкоууенорпсмичмоямзотаохаввыоееслекиосеиспчсмгыаьмттзтмотнанлунфххиеоищаажлоеиклнкеуоолжлскншвсералнаетооиуаачекпютсмчт, Найпоширеніша буква: о, Зсув: 0, Ключ: а\n",
      "Знайдений ключ: громнкавьдума\n"
     ]
    }
   ],
   "source": [
    "\n",
    "def find_key(cipher_text, key_length, common_letter='о'):\n",
    "    blocks = ['' for _ in range(key_length)]\n",
    "    \n",
    "    for i, char in enumerate(cipher_text):\n",
    "        if char.isalpha(): \n",
    "            blocks[i % key_length] += char.lower()\n",
    "    \n",
    "    key = ''\n",
    "    \n",
    "    for block in blocks:\n",
    "        if block:\n",
    "            letter_counts = Counter(block)\n",
    "            y = letter_counts.most_common(1)[0][0]\n",
    "            y_index = ord(y) - ord('а')\n",
    "            x_index = ord(common_letter) - ord('а')\n",
    "            k = (y_index - x_index) % 32\n",
    "            key_char = chr(k + ord('а'))  \n",
    "            key += key_char\n",
    "            print(f'Блок: {block}, Найпоширеніша буква: {y}, Зсув: {k}, Ключ: {key_char}')\n",
    "\n",
    "    return key\n",
    "\n",
    "cipher_text = read_text('v4.txt')\n",
    "key_length = 13\n",
    "vigenere_key = find_key(cipher_text, key_length)\n",
    "print(f'Знайдений ключ: {vigenere_key}')\n"
   ]
  },
  {
   "cell_type": "code",
   "execution_count": null,
   "metadata": {},
   "outputs": [
    {
     "name": "stdout",
     "output_type": "stream",
     "text": [
      "Розшифрований текст збережено у файл: decrypt_v4.txt\n"
     ]
    }
   ],
   "source": [
    "def vigenere_decrypt(cipher_text, key):\n",
    "    decrypted_text = []\n",
    "    key_length = len(key)\n",
    "\n",
    "    j = 0  \n",
    "    for char in cipher_text:\n",
    "        if char.isalpha():  \n",
    "            char_index = ord(char.lower()) - ord('а') \n",
    "            key_index = ord(key[j % key_length].lower()) - ord('а')  \n",
    "            decrypted_index = (char_index - key_index) % 32\n",
    "            decrypted_char = chr(decrypted_index + ord('а'))\n",
    "\n",
    "            if char.isupper():\n",
    "                decrypted_char = decrypted_char.upper()\n",
    "\n",
    "            decrypted_text.append(decrypted_char)\n",
    "            j += 1  \n",
    "        else:\n",
    "            decrypted_text.append(char)  \n",
    "\n",
    "    return ''.join(decrypted_text)\n",
    "\n",
    "def save_to_file(filename, text):\n",
    "    with open(filename, 'w', encoding='utf-8') as file:\n",
    "        file.write(text)\n",
    "\n",
    "\n",
    "cipher_text = read_text('v4.txt')  \n",
    "key = \"громыковедьма\"  \n",
    "decrypted_text = vigenere_decrypt(cipher_text, key)\n",
    "output_filename = 'decrypt_v4.txt'\n",
    "save_to_file(output_filename, decrypted_text)\n",
    "print(f'Розшифрований текст збережено у файл: {output_filename}')\n"
   ]
  }
 ],
 "metadata": {
  "kernelspec": {
   "display_name": "Python 3",
   "language": "python",
   "name": "python3"
  },
  "language_info": {
   "codemirror_mode": {
    "name": "ipython",
    "version": 3
   },
   "file_extension": ".py",
   "mimetype": "text/x-python",
   "name": "python",
   "nbconvert_exporter": "python",
   "pygments_lexer": "ipython3",
   "version": "3.12.5"
  }
 },
 "nbformat": 4,
 "nbformat_minor": 2
}
