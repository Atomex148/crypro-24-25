{
 "cells": [
  {
   "cell_type": "markdown",
   "metadata": {},
   "source": [
    "<div style=\"text-align: right;\"><h4>ФБ-21 Редько-Шпак Родислав, Серяков Владислав</h4></div>\n",
    "<h1><center><b>Лабораторна робота №2</b></center></h1>\n",
    "<h3><center>З предмета \"Криптографія\"</center></h3>\n",
    "<h5><b><center>Хід роботи:</center></b></h5>"
   ]
  },
  {
   "cell_type": "markdown",
   "metadata": {},
   "source": [
    "<b>Завдання:</b>\n",
    "<br>\n",
    "1) Самостійно підібрати текст для шифрування (2-3 кб) та ключі довжини r = 2, 3, 4, 5, а також довжини 10-20 знаків. Зашифрувати обраний відкритий текст шифром Віженера з цими ключами.<br><br>\n",
    "2) Підрахувати індекси відповідності для відкритого тексту та всіх одержаних шифртекстів і порівняти їх значення.<br><br>\n",
    "3) Використовуючи наведені теоретичні відомості, розшифрувати наданий шифртекст (згідно свого варіанта №2). \n"
   ]
  },
  {
   "cell_type": "markdown",
   "metadata": {},
   "source": [
    "Імпорт бібліотек та класів з lab_2_code.py та створення екземплярів"
   ]
  },
  {
   "cell_type": "code",
   "execution_count": 9,
   "metadata": {},
   "outputs": [
    {
     "name": "stdout",
     "output_type": "stream",
     "text": [
      "Все імпортовано та ініціалізовано!\n"
     ]
    }
   ],
   "source": [
    "from lab_2_code import *\n",
    "\n",
    "processor = TextProcessor()\n",
    "cipher = VigenereCipher()\n",
    "analyzer = CryptoAnalyzer()\n",
    "visualizer = Visualizer()\n",
    "print(\"Все імпортовано та ініціалізовано!\")"
   ]
  },
  {
   "cell_type": "markdown",
   "metadata": {},
   "source": [
    "===================================================================================="
   ]
  },
  {
   "cell_type": "markdown",
   "metadata": {},
   "source": [
    "<h2><b>Пункт 1</b></h2>"
   ]
  },
  {
   "cell_type": "markdown",
   "metadata": {},
   "source": [
    "===================================================================================="
   ]
  },
  {
   "cell_type": "markdown",
   "metadata": {},
   "source": [
    "<h3>Зчитування та підготовка тексту.</h3>\n",
    "\n",
    "*щодо генерації тексту - ми вирішили використати наступний підхід - ми взяли текст з лабораторної роботи №1. Далі, ми ділимо текст на рандомні за довжиною відрізки тексту, потім також рандомним чином об'єднуємо їх в один текст. Тому виходить доволі випадковий текст, але в той же час який зберігає структуру та частоти появи літер, подібні до оригіналу. Тобто таким чином ми створюємо більш природний (лексичний*?) текст (а не просто ф-ія random)."
   ]
  },
  {
   "cell_type": "code",
   "execution_count": 10,
   "metadata": {},
   "outputs": [
    {
     "name": "stdout",
     "output_type": "stream",
     "text": [
      "[+] Перші 50 символів згенерованого тексту: ясвесьмасомнительнымипосетитсястрахияростьрассказч...\n",
      "[+] Довжина згенерованого тексту: 1250 символів\n"
     ]
    }
   ],
   "source": [
    "donor_text = processor.read_text(r'C:\\Users\\rdk\\d_disk\\5sem\\cryptography\\lab_2\\v4.0\\text_lab_1.txt')\n",
    "plaintext = processor.generate_random_text(donor_text, 1250)\n",
    "print(f\"[+] Перші 50 символів згенерованого тексту: {plaintext[:50]}...\")\n",
    "print(f\"[+] Довжина згенерованого тексту: {len(plaintext)} символів\")"
   ]
  },
  {
   "cell_type": "markdown",
   "metadata": {},
   "source": [
    "<h3>Генеруємо ключі шифрування (ф-ія generate_keys) та виконуємо шифрування віженером (ф-ія encrypt).</h3>\n"
   ]
  },
  {
   "cell_type": "markdown",
   "metadata": {},
   "source": [
    "\n",
    "*ми створюємо ключі довжиною, 2-5 та 10-20 (за допомогою ф-ії generate_keys) та виводимо їх.*"
   ]
  },
  {
   "cell_type": "code",
   "execution_count": 11,
   "metadata": {},
   "outputs": [
    {
     "name": "stdout",
     "output_type": "stream",
     "text": [
      "\n",
      "[+] Згенеровані ключі:\n",
      " [-] Ключ 1 (довжина 2): зе\n",
      " [-] Ключ 2 (довжина 3): квк\n",
      " [-] Ключ 3 (довжина 4): йстм\n",
      " [-] Ключ 4 (довжина 5): юъхпп\n",
      " [-] Ключ 5 (довжина 10): лрьтдбгжсг\n",
      " [-] Ключ 6 (довжина 11): фжаримыйчиз\n",
      " [-] Ключ 7 (довжина 12): лрмцичхоочщы\n",
      " [-] Ключ 8 (довжина 13): лтшлбскакйюшл\n",
      " [-] Ключ 9 (довжина 14): шбадубшонщыюйщ\n",
      " [-] Ключ 10 (довжина 15): ормпонщфдиьшънб\n",
      " [-] Ключ 11 (довжина 16): оюднорйьоцьсъбуи\n",
      " [-] Ключ 12 (довжина 17): бьебаъвколююещочщ\n",
      " [-] Ключ 13 (довжина 18): щомфцавюсфойжюкнвй\n",
      " [-] Ключ 14 (довжина 19): нжфьлгцгувнамзсеофч\n",
      " [-] Ключ 15 (довжина 20): йццоуьачумкнсшпрзхтм\n"
     ]
    }
   ],
   "source": [
    "key_lengths = [2, 3, 4, 5, 10, 11, 12, 13, 14, 15, 16, 17, 18, 19, 20]\n",
    "keys = processor.generate_keys(key_lengths)\n",
    "print(\"\\n[+] Згенеровані ключі:\")\n",
    "for i, key in enumerate(keys):\n",
    "    print(f\" [-] Ключ {i+1} (довжина {len(key)}): {key}\")"
   ]
  },
  {
   "cell_type": "markdown",
   "metadata": {},
   "source": [
    "===================================================================================="
   ]
  },
  {
   "cell_type": "markdown",
   "metadata": {},
   "source": [
    "<h2><b>Пункт 2</b></h2>"
   ]
  },
  {
   "cell_type": "markdown",
   "metadata": {},
   "source": [
    "===================================================================================="
   ]
  },
  {
   "cell_type": "markdown",
   "metadata": {},
   "source": [
    "<h3> Обчислюємо індекси відповідності (calculate_ioc).</h3>"
   ]
  },
  {
   "cell_type": "markdown",
   "metadata": {},
   "source": [
    "*індекс відповідності (ioc) в коді рахується для того, щоб визначити, наскільки символи в тексті повторюються між собою. Уявімо, що ми рахуємо кожну літеру в тексті і дивимося, скільки разів вона зустрічається з іншою такою ж літерою. Формула бере кількість кожної літери, множить її на (к-сть - 1) і ділить на загальну кількість можливих пар символів у тексті. Якщо простіше - це показник того, яка ймовірність зустріти однакові літери в тексті. Для звичайного тексту цей показник буде вищим (бо деякі літери, як \"о\" чи \"а\", часто повторюються), а для зашифрованого - нижчим (бо там символи розподілені більш випадково).*"
   ]
  },
  {
   "cell_type": "code",
   "execution_count": 12,
   "metadata": {},
   "outputs": [
    {
     "name": "stdout",
     "output_type": "stream",
     "text": [
      "\n",
      "[=] Індекси відповідності [=]\n",
      " [+] Відкритий текст: 0.0560217774\n",
      " [-] Шифротекст 1: 0.0441197758\n",
      " [-] Шифротекст 2: 0.0451279424\n",
      " [-] Шифротекст 3: 0.0407993595\n",
      " [-] Шифротекст 4: 0.0367987190\n",
      " [-] Шифротекст 5: 0.0329184948\n",
      " [-] Шифротекст 6: 0.0323407526\n",
      " [-] Шифротекст 7: 0.0337101681\n",
      " [-] Шифротекст 8: 0.0326405124\n",
      " [-] Шифротекст 9: 0.0319590072\n",
      " [-] Шифротекст 10: 0.0320717374\n",
      " [-] Шифротекст 11: 0.0335269816\n",
      " [-] Шифротекст 12: 0.0338690152\n",
      " [-] Шифротекст 13: 0.0320435548\n",
      " [-] Шифротекст 14: 0.0321844676\n",
      " [-] Шифротекст 15: 0.0330171337\n"
     ]
    },
    {
     "data": {
      "image/png": "[encoded data removed]",
      "text/plain": [
       "<Figure size 1200x600 with 1 Axes>"
      ]
     },
     "metadata": {},
     "output_type": "display_data"
    },
    {
     "data": {
      "image/png": "[encoded data removed]",
      "text/plain": [
       "<Figure size 1500x500 with 1 Axes>"
      ]
     },
     "metadata": {},
     "output_type": "display_data"
    }
   ],
   "source": [
    "ciphertexts = [cipher.encrypt(plaintext, key) for key in keys]\n",
    "ioc_plaintext = cipher.calculate_ioc(plaintext)\n",
    "ioc_ciphertexts = [cipher.calculate_ioc(ciphertext) for ciphertext in ciphertexts]\n",
    "\n",
    "print(\"\\n[=] Індекси відповідності [=]\")\n",
    "print(f\" [+] Відкритий текст: {ioc_plaintext:.10f}\")\n",
    "for i, ioc in enumerate(ioc_ciphertexts):\n",
    "    print(f\" [-] Шифротекст {i+1}: {ioc:.10f}\")\n",
    "\n",
    "# покзуємо результати візуально\n",
    "visualizer.plot_ioc_comparison(ioc_plaintext, ioc_ciphertexts)\n",
    "visualizer.plot_frequency_distribution(plaintext)"
   ]
  },
  {
   "cell_type": "markdown",
   "metadata": {},
   "source": [
    "Як видно з виводу та графіка №1 - індекси відповідності найкращі* для відкритого тексту - 0,057 (це відповідає рос мові), в той час як всі інші зашифровані текст мають менші значення.\n",
    "З другого графіка видно частоти букв для нашого відкритого тексту - вони також відповідають рос мові."
   ]
  },
  {
   "cell_type": "markdown",
   "metadata": {},
   "source": [
    "===================================================================================="
   ]
  },
  {
   "cell_type": "markdown",
   "metadata": {},
   "source": [
    "<h2><b>Пункт 3</b></h2>"
   ]
  },
  {
   "cell_type": "markdown",
   "metadata": {},
   "source": [
    "===================================================================================="
   ]
  },
  {
   "cell_type": "markdown",
   "metadata": {},
   "source": [
    "<h3>Аналіз варіанту (в нашому випадку - №2) та пробуємо розшифрувати.</h3>"
   ]
  },
  {
   "cell_type": "markdown",
   "metadata": {},
   "source": [
    "*В цій частині ми аналізуємо зашифрований текст (за варіантом, в нашому випадку №2). Для цього ми спочатку намагаємося дізнатися довжину ключа (ф-ія find_key_length), після цього, за знайденою довжиною, знаходимо ключ (ф-ія find_key). В кінці ми дешифруємо наш текст цим ключем (ф-ія decrypt).*"
   ]
  },
  {
   "cell_type": "markdown",
   "metadata": {},
   "source": [
    "**Як працює find_key_length** - *ми беремо наш зашифрований текст і робимо таку штуку: пробуємо порізати його на відрізки різної довжини (від 1 до 30 символів). Для кожної довжини дивимось на символи через однакові проміжки. Наприклад, якщо думаємо що довжина ключа 3, то беремо: перший символ, четвертий, сьомий... потім другий, п'ятий, восьмий... і так далі. Для кожного такого набору рахуємо індекс відповідності (IOC). Фішка в тому, що коли ми вгадаємо правильну довжину ключа, то в цих наборах будуть символи, зашифровані одним і тим же символом ключа - і IOC буде найбільш схожим на IOC звичайного тексту!*"
   ]
  },
  {
   "cell_type": "markdown",
   "metadata": {},
   "source": [
    "**Як працює знаходження самого ключа (find_key)** - *коли ми знайшли довжину, починається ще цікавіше. Для кожної позиції в ключі (наприклад, якщо довжина 3, то окремо для першої, другої і третьої позицій):*\n",
    "\n",
    "<br>Беремо всі символи, які зашифровані цією позицією ключа\n",
    "<br>Рахуємо частоту кожної літери в цих символах\n",
    "<br>Пробуємо всі можливі зсуви алфавіту і дивимось, при якому зсуві частоти літер найбільше схожі на частоти в звичайному\n",
    "<br>російському тексті (які ми знаємо з теорії*)\n",
    "<br>Той зсув, який дає найкращий збіг - це і є символ ключа на цій позиції.\n",
    "\n",
    "*до речі, значення природної мови ми взяли з минулої лабораторної роботи. Тільки трохи там підправили алфавіт, щоб він відповідав цій лабораторній та отримали результат."
   ]
  },
  {
   "cell_type": "code",
   "execution_count": 13,
   "metadata": {},
   "outputs": [
    {
     "name": "stdout",
     "output_type": "stream",
     "text": [
      "\n",
      "[===] Аналіз варіанту №2 [===]\n",
      "\n",
      "[!] Топ-5 можливих довжин ключа [!]\n",
      " [+] Довжина 28: IOC = 0.055361\n",
      " [+] Довжина 14: IOC = 0.055283\n",
      " [+] Довжина 7: IOC = 0.044625\n",
      " [+] Довжина 21: IOC = 0.044470\n",
      " [+] Довжина 8: IOC = 0.036423\n",
      "\n",
      "[✓] Рекомендована довжина ключа: 14\n",
      "\n",
      "[+] Знайдений ключ: последнийдозор\n",
      "[+] Розшифрований текст (перші 50 символів): какясмогэтосделатьспросилгесерипочемуэтогонесмогсд...\n"
     ]
    }
   ],
   "source": [
    "print(\"\\n[===] Аналіз варіанту №2 [===]\")\n",
    "encrypted_variant = processor.read_text(r'C:\\Users\\rdk\\d_disk\\5sem\\cryptography\\lab_2\\v4.0\\texts_variants\\text_2.txt')\n",
    "recommended_length, top_key_lengths = analyzer.find_key_length(encrypted_variant)\n",
    "\n",
    "found_key = analyzer.find_key(encrypted_variant, recommended_length)\n",
    "decrypted_text = cipher.decrypt(encrypted_variant, found_key)\n",
    "\n",
    "print(f\"\\n[+] Знайдений ключ: {found_key}\")\n",
    "print(f\"[+] Розшифрований текст (перші 50 символів): {decrypted_text[:50]}...\")"
   ]
  },
  {
   "cell_type": "markdown",
   "metadata": {},
   "source": [
    "Як ми бачимо з результатів - оптимальна довжина ключа - 14 (за ІОС зверху 28, але в коді є перевірка - він створює \"плато\" з довжин, які мають IOC близький до макс (більше 90% від макс значення), і потім обирає найменшу довжину з цього плато. ми можемо отримати кратні довжини з дуже схожими IOC, але нам потрібна найменша з них.) По факту, це як найти найменший спільний дільник для числа."
   ]
  },
  {
   "cell_type": "markdown",
   "metadata": {},
   "source": [
    "<h3>Додатковий аналіз з іншими довжинами ключа (щоб точно переконатися, що ми обрали оптимальний/правильний ключ).</h3>"
   ]
  },
  {
   "cell_type": "code",
   "execution_count": 14,
   "metadata": {},
   "outputs": [
    {
     "name": "stdout",
     "output_type": "stream",
     "text": [
      "\n",
      "============================== Аналіз з довжиною 28 ==============================\n",
      "[+] Ключ: последнийдозорпоследнийдозор\n",
      "[+] Текст: какясмогэтосделатьспросилгесерипочемуэтогонесмогсд...\n",
      "\n",
      "============================== Аналіз з довжиною 7 ==============================\n",
      "[+] Ключ: послздн\n",
      "[+] Текст: какяпмоьшессоилатьппрзмыогпферипмчееорхонснесммгсэ...\n",
      "\n",
      "============================== Аналіз з довжиною 21 ==============================\n",
      "[+] Ключ: мослздрпосоеднийслздн\n",
      "[+] Текст: накяпмльшеоуоитетьппркмыогпсеримочемурхонсресммгоэ...\n",
      "\n",
      "============================== Аналіз з довжиною 8 ==============================\n",
      "[+] Ключ: одозозои\n",
      "[+] Текст: лкнгийнгштосдомжхгимппмдлжеъжчлтечдноътнгъомфреяри...\n"
     ]
    }
   ],
   "source": [
    "additional_results = []\n",
    "additional_lengths = [length for length, _ in top_key_lengths[:5] if length != recommended_length]\n",
    "\n",
    "for length in additional_lengths:\n",
    "    print(f\"\\n{'=' * 30} Аналіз з довжиною {length} {'=' * 30}\")\n",
    "    key = analyzer.find_key(encrypted_variant, length)\n",
    "    text = cipher.decrypt(encrypted_variant, key)\n",
    "    additional_results.append((length, key, text))\n",
    "    print(f\"[+] Ключ: {key}\")\n",
    "    print(f\"[+] Текст: {text[:50]}...\")"
   ]
  },
  {
   "cell_type": "markdown",
   "metadata": {},
   "source": [
    "З виводу видно, що ключ з довжиною 28 підходить, але сенс - це по факту подвоєний ключ довжини 14) Інші ключі вже не правильно розшифровують текст."
   ]
  },
  {
   "cell_type": "markdown",
   "metadata": {},
   "source": [
    "<h3>Загальний аналіз та результати.</h3>"
   ]
  },
  {
   "cell_type": "code",
   "execution_count": 15,
   "metadata": {},
   "outputs": [
    {
     "name": "stdout",
     "output_type": "stream",
     "text": [
      "\n",
      "==================================================\n",
      "Аналіз результатів:\n",
      "==================================================\n",
      "1. Довжина відкритого тексту: 1250 символів\n",
      "2. Кількість згенерованих ключів: 15\n",
      "3. Довжини ключів: 2, 3, 4, 5, 10, 11, 12, 13, 14, 15, 16, 17, 18, 19, 20\n",
      "4. Індекс відповідності відкритого тексту: 0.056022\n",
      "5. Індекси відповідності шифротекстів:\n",
      " Шифротекст 1: 0.044120\n",
      " Шифротекст 2: 0.045128\n",
      " Шифротекст 3: 0.040799\n",
      " Шифротекст 4: 0.036799\n",
      " Шифротекст 5: 0.032918\n",
      " Шифротекст 6: 0.032341\n",
      " Шифротекст 7: 0.033710\n",
      " Шифротекст 8: 0.032641\n",
      " Шифротекст 9: 0.031959\n",
      " Шифротекст 10: 0.032072\n",
      " Шифротекст 11: 0.033527\n",
      " Шифротекст 12: 0.033869\n",
      " Шифротекст 13: 0.032044\n",
      " Шифротекст 14: 0.032184\n",
      " Шифротекст 15: 0.033017\n",
      "6. Можливі довжини ключа для варіанту (топ-5):\n",
      " Довжина 28: IOC = 0.055361\n",
      " Довжина 14: IOC = 0.055283\n",
      " Довжина 7: IOC = 0.044625\n",
      " Довжина 21: IOC = 0.044470\n",
      " Довжина 8: IOC = 0.036423\n",
      "7. Знайдений ключ для варіанту: последнийдозор\n",
      "8. Довжина розшифрованого тексту: 7328 символів\n",
      "==================================================\n"
     ]
    }
   ],
   "source": [
    "print(\"\\n\" + \"=\"*50)\n",
    "print(\"Аналіз результатів:\")\n",
    "print(\"=\"*50)\n",
    "print(f\"1. Довжина відкритого тексту: {len(plaintext)} символів\")\n",
    "print(f\"2. Кількість згенерованих ключів: {len(keys)}\")\n",
    "print(\"3. Довжини ключів:\", \", \".join(map(str, key_lengths)))\n",
    "print(f\"4. Індекс відповідності відкритого тексту: {ioc_plaintext:.6f}\")\n",
    "print(\"5. Індекси відповідності шифротекстів:\")\n",
    "for i, ioc in enumerate(ioc_ciphertexts):\n",
    "    print(f\" Шифротекст {i+1}: {ioc:.6f}\")\n",
    "print(\"6. Можливі довжини ключа для варіанту (топ-5):\")\n",
    "for length, ioc in top_key_lengths[:5]:\n",
    "    print(f\" Довжина {length}: IOC = {ioc:.6f}\")\n",
    "print(f\"7. Знайдений ключ для варіанту: {found_key}\")\n",
    "print(f\"8. Довжина розшифрованого тексту: {len(decrypted_text)} символів\")\n",
    "print(\"=\"*50)"
   ]
  },
  {
   "cell_type": "markdown",
   "metadata": {},
   "source": [
    "<h2><b>Висновки</b></h2>"
   ]
  },
  {
   "cell_type": "markdown",
   "metadata": {},
   "source": [
    "У ході лабораторної роботи досліджено принципи роботи та методи криптоаналізу шифру Віженера. \n",
    "<br>Знайдений індекс відповідності (IOC) для відкритого тексту російською мовою становить приблизно 0.056 - відповідає теоретичним очікуванням рос мови. \n",
    "<br>Зі збільшенням довжини ключа значення IOC зменшується: для ключів довжиною 2–5 символів - близько 0.040–0.045, а для ключів довжиною 10–20 символів - 0.032–0.034. \n",
    "<br>Для зашифрованого тексту варіанту №2 найвірогіднішою виявилася довжина 14 та був знайдений ключ - \"последнийдозор\" (+ це підтвердилося успішним розшифруванням). "
   ]
  },
  {
   "cell_type": "markdown",
   "metadata": {},
   "source": [
    "Отримані результати підтверджують теоретичні відомості про вразливість шифру Віженера до частотного криптоаналізу та демонструють практичну можливість його зламу (особливо для коротких ключів (2–5 символів)) при наявності достатньої кількості шифротексту."
   ]
  }
 ],
 "metadata": {
  "kernelspec": {
   "display_name": "Python 3 (ipykernel)",
   "language": "python",
   "name": "python3"
  },
  "language_info": {
   "codemirror_mode": {
    "name": "ipython",
    "version": 3
   },
   "file_extension": ".py",
   "mimetype": "text/x-python",
   "name": "python",
   "nbconvert_exporter": "python",
   "pygments_lexer": "ipython3",
   "version": "3.12.1"
  }
 },
 "nbformat": 4,
 "nbformat_minor": 4
}
