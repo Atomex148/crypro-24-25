{
 "cells": [
  {
   "cell_type": "markdown",
   "metadata": {},
   "source": [
    "<div style=\"text-align: right;\"><h4>ФБ-21 Редько-Шпак Родислав, Серяков Владислав</h4></div>\n",
    "<h1><center><b>Лабораторна робота №2</b></center></h1>\n",
    "<h3><center>З предмета \"Криптографія\"</center></h3>\n",
    "<h5><b><center>Хід роботи:</center></b></h5>"
   ]
  },
  {
   "cell_type": "code",
   "execution_count": null,
   "metadata": {
    "vscode": {
     "languageId": "plaintext"
    }
   },
   "outputs": [],
   "source": []
  }
 ],
 "metadata": {
  "language_info": {
   "name": "python"
  }
 },
 "nbformat": 4,
 "nbformat_minor": 2
}
