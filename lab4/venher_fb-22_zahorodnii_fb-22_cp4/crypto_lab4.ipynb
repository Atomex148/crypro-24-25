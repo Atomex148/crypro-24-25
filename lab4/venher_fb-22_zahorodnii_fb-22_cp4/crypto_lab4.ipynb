{
 "cells": [
  {
   "metadata": {},
   "cell_type": "markdown",
   "source": "Лабораторна робота 4"
  },
  {
   "metadata": {},
   "cell_type": "markdown",
   "source": [
    "1. Написати функцію пошуку випадкового простого числа з заданого інтервалу або\n",
    "заданої довжини, використовуючи датчик випадкових чисел та тести перевірки на\n",
    "простоту. В якості датчика випадкових чисел використовуйте вбудований генератор\n",
    "псевдовипадкових чисел вашої мови програмування. В якості тесту перевірки на простоту\n",
    "рекомендовано використовувати тест Міллера-Рабіна із попередніми пробними\n",
    "діленнями. Тести необхідно реалізовувати власноруч, використання готових реалізацій\n",
    "тестів не дозволяється.\n"
   ]
  },
  {
   "metadata": {
    "ExecuteTime": {
     "end_time": "2024-12-11T21:52:37.057401Z",
     "start_time": "2024-12-11T21:52:37.051232Z"
    }
   },
   "cell_type": "code",
   "source": [
    "import csv\n",
    "import random\n",
    "from math import gcd\n",
    "\n",
    "def miller_rabin(p, k=5):\n",
    "    if p <= 1:\n",
    "        return False\n",
    "    if p <= 3:\n",
    "        return True\n",
    "    if p % 2 == 0:\n",
    "        return False\n",
    "\n",
    "    s, d = 0, p - 1\n",
    "    while d % 2 == 0:\n",
    "        s += 1\n",
    "        d //= 2\n",
    "\n",
    "    for _ in range(k):\n",
    "        x = random.randint(2, p - 2)\n",
    "\n",
    "        if gcd(x, p) > 1:\n",
    "            return False\n",
    "\n",
    "        x_d = pow(x, d, p)\n",
    "        if x_d == 1 or x_d == p - 1:\n",
    "            continue\n",
    "\n",
    "        is_composite = True\n",
    "        for r in range(1, s):\n",
    "            x_d = pow(x_d, 2, p)\n",
    "            if x_d == p - 1:\n",
    "                is_composite = False\n",
    "                break\n",
    "            if x_d == 1:\n",
    "                return False\n",
    "\n",
    "        if is_composite:\n",
    "            return False\n",
    "\n",
    "    return True\n",
    "\n",
    "def random_prime_in_range(start, end):\n",
    "    with open(\"numbers.csv\", \"a\", newline=\"\") as csvfile:\n",
    "        while True:\n",
    "            num = random.randint(start, end)\n",
    "            if miller_rabin(num):\n",
    "                return num\n",
    "            else:\n",
    "                    writer = csv.writer(csvfile)\n",
    "                    writer.writerow([num])\n",
    "\n",
    "def random_prime_with_bit_length(bits):\n",
    "    start = 2**(bits - 1)\n",
    "    end = 2**bits - 1\n",
    "    return random_prime_in_range(start, end)"
   ],
   "outputs": [],
   "execution_count": 62
  },
  {
   "metadata": {},
   "cell_type": "markdown",
   "source": "2. За допомогою цієї функції згенерувати дві пари простих чисел  p, q і p1, q1 довжини щонайменше 256 біт. При цьому пари чисел беруться так, щоб pq <= p1q1; p і q – прості числа для побудови ключів абонента А, p1 i q1 – абонента B."
  },
  {
   "metadata": {
    "ExecuteTime": {
     "end_time": "2024-12-11T21:46:59.724827Z",
     "start_time": "2024-12-11T21:46:59.698726Z"
    }
   },
   "cell_type": "code",
   "source": [
    "def generate_prime_pairs(bits):\n",
    "    while True:\n",
    "        p = random_prime_with_bit_length(bits)\n",
    "        q = random_prime_with_bit_length(bits)\n",
    "        p1 = random_prime_with_bit_length(bits)\n",
    "        q1 = random_prime_with_bit_length(bits)\n",
    "\n",
    "        if p * q <= p1 * q1:\n",
    "            return (p, q), (p1, q1)\n",
    "\n",
    "(pre_p, pre_q), (pre_p1, pre_q1) = generate_prime_pairs(256)\n",
    "print(\"Прості числа абонента A: p =\", pre_p, \", q =\", pre_q)\n",
    "print(\"Прості числа абонента B: p1 =\", pre_p1, \", q1 =\", pre_q1)\n",
    "print(\"Перевірка: pq =\", pre_p * pre_q, \"<= p1q1 =\", pre_p1 * pre_q1)\n",
    "print(pre_p * pre_q <= pre_p1 * pre_q1)"
   ],
   "outputs": [
    {
     "name": "stdout",
     "output_type": "stream",
     "text": [
      "Прості числа абонента A: p = 87354766546536708125860530043437692278267889467788947559195344186410445075677 , q = 70969428545336947774909506929314876801436006294207101884960887041625768736037\n",
      "Прості числа абонента B: p1 = 109844110988805784989510066311670915614827770681105434856028158772259005931803 , q1 = 61892729654457728640911458076385155627864595372413441094428276424293828469689\n",
      "Перевірка: pq = 6199517862519027318773374730248631992208510972162208053511034285084524491506992403880606782403101235798360836003248829638941861024033533928858007102072049 <= p1q1 = 6798551865564405866302031189431336197941663666238815826799356373817831999870609882263345537738868882378356835100680207512408073103494561490962048986619267\n",
      "True\n"
     ]
    }
   ],
   "execution_count": 60
  },
  {
   "metadata": {},
   "cell_type": "markdown",
   "source": "3. Написати функцію генерації ключових пар для RSA. Після генерування функція повинна повертати та/або зберігати секретний ключ (d, p,q) та відкритий ключ  (n,e). За допомогою цієї функції побудувати схеми RSA для абонентів А і B – тобто, створити та зберегти для подальшого використання відкриті ключі (e,n) , (e1, n1) та секретні d і d1."
  },
  {
   "metadata": {
    "ExecuteTime": {
     "end_time": "2024-12-11T21:56:41.245401Z",
     "start_time": "2024-12-11T21:56:41.240093Z"
    }
   },
   "cell_type": "code",
   "source": [
    "def mod_inverse(e, phi):\n",
    "    old_r, r = e, phi\n",
    "    old_s, s = 1, 0\n",
    "    while r != 0:\n",
    "        quotient = old_r // r\n",
    "        old_r, r = r, old_r - quotient * r\n",
    "        old_s, s = s, old_s - quotient * s\n",
    "    if old_r != 1:\n",
    "        raise ValueError(\"e не має оберненого за модулем phi\")\n",
    "    return old_s % phi\n",
    "\n",
    "def generate_rsa_key_pair(p, q):\n",
    "    n = p * q\n",
    "    phi = (p - 1) * (q - 1)\n",
    "\n",
    "    while True:\n",
    "        e = random.randint(2, phi - 1)\n",
    "        if gcd(e, phi) == 1:\n",
    "            break\n",
    "\n",
    "    d = mod_inverse(e, phi)\n",
    "    return (e, n), (d, p, q)\n",
    "\n",
    "public_key_A, private_key_A = generate_rsa_key_pair(pre_p, pre_q)\n",
    "public_key_B, private_key_B = generate_rsa_key_pair(pre_p1, pre_q1)\n",
    "\n",
    "print(\"Відкритий ключ абонента A (e, n):\", public_key_A)\n",
    "print(\"Секретний ключ абонента A (d, p, q):\", private_key_A)\n",
    "print()\n",
    "print(\"Відкритий ключ абонента B (e1, n1):\", public_key_B)\n",
    "print(\"Секретний ключ абонента B (d1, p1, q1):\", private_key_B)\n"
   ],
   "outputs": [
    {
     "name": "stdout",
     "output_type": "stream",
     "text": [
      "Відкритий ключ абонента A (e, n): (2090717405462280846363333318198179891038308849994802498107708820113992554166815991248223180605239660836595859803647886917813644932511049381546178044082813, 6199517862519027318773374730248631992208510972162208053511034285084524491506992403880606782403101235798360836003248829638941861024033533928858007102072049)\n",
      "Секретний ключ абонента A (d, p, q): (488911208777162550234952358952283809207194196489492087750160718660324427773825085113057532785115659963665570809352364039089252070941172088899893629721573, 87354766546536708125860530043437692278267889467788947559195344186410445075677, 70969428545336947774909506929314876801436006294207101884960887041625768736037)\n",
      "\n",
      "Відкритий ключ абонента B (e1, n1): (5378017735986257894259697386674840738618879007551531753625999798464739705565118294898983107754484584287912401659757811261974254651471549589671867361653143, 6798551865564405866302031189431336197941663666238815826799356373817831999870609882263345537738868882378356835100680207512408073103494561490962048986619267)\n",
      "Секретний ключ абонента B (d1, p1, q1): (671360831864538495520915195540266879650376397968450580931163192460524843311759640734823194079201327444701344154732266368683622722606456610292781444058295, 109844110988805784989510066311670915614827770681105434856028158772259005931803, 61892729654457728640911458076385155627864595372413441094428276424293828469689)\n"
     ]
    }
   ],
   "execution_count": 63
  },
  {
   "metadata": {},
   "cell_type": "markdown",
   "source": [
    "4. Написати програму шифрування, розшифрування і створення повідомлення з  цифровим підписом для абонентів А і B. Кожна з операцій (шифрування, розшифрування, створення цифрового підпису, перевірка цифрового підпису) повинна бути реалізована окремою процедурою, на вхід до якої повинні подаватись лише ті ключові дані, які  необхідні для її виконання.\n",
    "За допомогою датчика випадкових чисел вибрати відкрите повідомлення M і\n",
    "знайти криптограму для абонентів А и B, перевірити правильність розшифрування.  Скласти для А і B повідомлення з цифровим підписом і перевірити його."
   ]
  },
  {
   "metadata": {
    "ExecuteTime": {
     "end_time": "2024-12-11T21:59:14.948123Z",
     "start_time": "2024-12-11T21:59:14.941641Z"
    }
   },
   "cell_type": "code",
   "source": [
    "def encrypt(message, public_key):\n",
    "    return pow(message, public_key[0], public_key[1])\n",
    "\n",
    "def decrypt(ciphertext, private_key):\n",
    "    return pow(ciphertext, private_key[0], private_key[1] * private_key[2])\n",
    "\n",
    "def sign(message, private_key):\n",
    "    return pow(message, private_key[0], private_key[1] * private_key[2])\n",
    "\n",
    "def verify(message, signature, public_key):\n",
    "    return message == pow(signature, public_key[0], public_key[1])\n"
   ],
   "outputs": [],
   "execution_count": 64
  },
  {
   "metadata": {},
   "cell_type": "markdown",
   "source": [
    "5. За допомогою раніше написаних на попередніх етапах програм організувати роботу протоколу конфіденційного розсилання ключів з підтвердженням справжності по  відкритому каналу за допомогою алгоритму RSA. Протоколи роботи кожного учасника  (відправника та приймаючого) повинні бути реалізовані у вигляді окремих процедур, на  вхід до яких повинні подаватись лише ті ключові дані, які необхідні для виконання.\n",
    "Перевірити роботу програм для випадково обраного ключа  0 < k < n."
   ]
  },
  {
   "metadata": {
    "ExecuteTime": {
     "end_time": "2024-12-11T21:59:44.660754Z",
     "start_time": "2024-12-11T21:59:44.650124Z"
    }
   },
   "cell_type": "code",
   "source": [
    "def send_key(message, receiver_public_key, sender_private_key):\n",
    "    signed_message = sign(message, sender_private_key)\n",
    "    encrypted_signed_message = encrypt(signed_message, receiver_public_key)\n",
    "    encrypted_message = encrypt(message, receiver_public_key)\n",
    "    return encrypted_message, encrypted_signed_message\n",
    "\n",
    "def receive_key(encrypted_message, encrypted_signed_message, receiver_private_key, sender_public_key):\n",
    "    decrypted_message = decrypt(encrypted_message, receiver_private_key)\n",
    "    signed_message = decrypt(encrypted_signed_message, receiver_private_key)\n",
    "    if verify(decrypted_message, signed_message, sender_public_key):\n",
    "        print(\"Перевірка підпису успішна\")\n",
    "        return decrypted_message\n",
    "    else:\n",
    "        raise ValueError(\"Невдала перевірка підпису\")\n",
    "\n",
    "k = random.randint(2, public_key_A[1] - 1)\n",
    "print(\"Випадкове повідомлення k:\", k)\n",
    "\n",
    "encrypted_message_to_B, encrypted_signed_message_to_B  = send_key(k, public_key_B, private_key_A)\n",
    "print(\"Зашифроване повідомлення:\", encrypted_message_to_B)\n",
    "print(\"Зашифроване підписане повідомлення:\", encrypted_signed_message_to_B)\n",
    "\n",
    "try:\n",
    "    received_k = receive_key(encrypted_message_to_B, encrypted_signed_message_to_B, private_key_B, public_key_A)\n",
    "    print(\"Отриманий ключ:\", received_k)\n",
    "except ValueError as e:\n",
    "    print(e)"
   ],
   "outputs": [
    {
     "name": "stdout",
     "output_type": "stream",
     "text": [
      "Випадкове повідомлення k: 4212129922692477871409065517171069466072456671266660037618142382787102334281078445984522432429084893263603942244071447884411535319882687025260369042191534\n",
      "Зашифроване повідомлення: 850124687929945285026952277711881845013525663610290968609733682036741279941152758588070030467049900146237976866168108794108245425347883672677966955802585\n",
      "Зашифроване підписане повідомлення: 472824198432174381351844382503329602334530639546915050605192621331795526308025365475759446891930802072807723309120491533900075357210830469730252111233477\n",
      "Перевірка підпису успішна\n",
      "Отриманий ключ: 4212129922692477871409065517171069466072456671266660037618142382787102334281078445984522432429084893263603942244071447884411535319882687025260369042191534\n"
     ]
    }
   ],
   "execution_count": 65
  },
  {
   "metadata": {},
   "cell_type": "code",
   "outputs": [],
   "execution_count": null,
   "source": ""
  }
 ],
 "metadata": {
  "kernelspec": {
   "display_name": "Python 3",
   "language": "python",
   "name": "python3"
  },
  "language_info": {
   "codemirror_mode": {
    "name": "ipython",
    "version": 3
   },
   "file_extension": ".py",
   "mimetype": "text/x-python",
   "name": "python",
   "nbconvert_exporter": "python",
   "pygments_lexer": "ipython3",
   "version": "3.10.11"
  }
 },
 "nbformat": 4,
 "nbformat_minor": 2
}
